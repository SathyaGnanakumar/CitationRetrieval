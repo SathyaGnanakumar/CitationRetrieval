{
 "cells": [
  {
   "cell_type": "code",
   "execution_count": null,
   "id": "ec27f595",
   "metadata": {},
   "outputs": [],
   "source": [
    "!playwright install "
   ]
  },
  {
   "cell_type": "code",
   "execution_count": null,
   "id": "f1421758",
   "metadata": {},
   "outputs": [],
   "source": [
    "import os\n",
    "from dotenv import load_dotenv\n",
    "from pprint import pprint\n",
    "\n",
    "load_dotenv()\n",
    "\n",
    "api_key = os.getenv(\"TAVILY_KEY\")\n",
    "# print(api_key)\n"
   ]
  },
  {
   "cell_type": "markdown",
   "id": "71c5edbe",
   "metadata": {},
   "source": [
    "# DOWNLOAD DIRECTLY IF a PDF opens straight up"
   ]
  },
  {
   "cell_type": "code",
   "execution_count": null,
   "id": "1ede14ae",
   "metadata": {},
   "outputs": [],
   "source": [
    "import requests\n",
    "def download_file(url):\n",
    "    local_filename = url.split('/')[-1]\n",
    "    # NOTE the stream=True parameter below\n",
    "    with requests.get(url, stream=True) as r:\n",
    "        r.raise_for_status()\n",
    "        with open(local_filename, 'wb') as f:\n",
    "            for chunk in r.iter_content(chunk_size=8192): \n",
    "                # If you have chunk encoded response uncomment if\n",
    "                # and set chunk_size parameter to None.\n",
    "                #if chunk: \n",
    "                f.write(chunk)\n",
    "    return local_filename\n",
    "\n",
    "download_file(url)"
   ]
  },
  {
   "cell_type": "markdown",
   "id": "aee9ff1a",
   "metadata": {},
   "source": [
    "---"
   ]
  },
  {
   "cell_type": "markdown",
   "id": "8f969bfa",
   "metadata": {},
   "source": [
    "# Corpus Collection"
   ]
  },
  {
   "cell_type": "code",
   "execution_count": 2,
   "id": "f2391a61",
   "metadata": {},
   "outputs": [
    {
     "name": "stdout",
     "output_type": "stream",
     "text": [
      "Generated search string → curve mititgation borehole in‑seam drainage coal‑bed supply conserved storage gob enhanced aquifer methane recovery gas\n"
     ]
    }
   ],
   "source": [
    "\"\"\"\n",
    "llm_query_builder.py\n",
    "--------------------\n",
    "\n",
    "A tiny utility that asks an LLM (OpenAI in this example) to **randomly pick**\n",
    "one to three terms from each topic bucket of your `keyword_corpus`\n",
    "and return a search‑ready string suitable for Tavily / Google.\n",
    "\n",
    "• Each run produces a different query (the LLM shuffles internally).\n",
    "• You can add system instructions to tweak style—e.g., force operators\n",
    "  like site:, intitle:, filetype:pdf, etc.\n",
    "• The resulting query string is returned so you can feed it straight\n",
    "  to Tavily’s `search()` call.\n",
    "\"\"\"\n",
    "\n",
    "import os, json, random\n",
    "from openai import OpenAI\n",
    "\n",
    "client = OpenAI(api_key=os.getenv(\"OPENAI_API_KEY\"))\n",
    "\n",
    "# ---- 1) Load / define the corpus ------------------------------------------\n",
    "# domain_keyword_corpus.py\n",
    "\n",
    "keyword_corpus = {\n",
    "    # 1. Coal‑(Bed/Mine) Methane – Reservoir & Drainage Technology\n",
    "    \"coal_methane\": [\n",
    "        \"coal mine methane\",                # CMM\n",
    "        \"cmm extraction\",\n",
    "        \"cmm utilization\",\n",
    "        \"coal‑bed methane\",                 # CBM\n",
    "        \"high‑gas mine\",\n",
    "        \"outburst mine\",\n",
    "        \"fiery mine\",\n",
    "        \"underground drainage\",\n",
    "        \"surface drainage\",\n",
    "        \"in‑seam borehole\",\n",
    "        \"cross‑measure borehole\",\n",
    "        \"gob gas drainage\",\n",
    "        \"gob venthole\",\n",
    "        \"stress‑relieved seam extraction\",\n",
    "        \"multi‑branch horizontal directional well\",\n",
    "        \"multipurpose surface well\",\n",
    "        \"hydraulic fracturing\",\n",
    "        \"hydraulic slotting\",\n",
    "        \"permeability enhancement\",\n",
    "        \"adsorption desorption\",\n",
    "        \"methane oxidation efficiency\",\n",
    "        \"ventilation‑air‑methane capture\"   # VAM\n",
    "    ],\n",
    "\n",
    "    # 2. Economics & Policy of Methane Abatement\n",
    "    \"abatement_economics\": [\n",
    "        \"abatement cost curve\",\n",
    "        \"conserved supply curve\",           # CSC\n",
    "        \"marginal abatement cost\",          # MAC\n",
    "        \"carbon pricing\",\n",
    "        \"avoidable‑emission cost\",\n",
    "        \"extraction‑step diversity\",\n",
    "        \"utilization‑step diversity\",\n",
    "        \"technology standardisation\",\n",
    "        \"infrastructure strengthening\"\n",
    "    ],\n",
    "\n",
    "    # 3. Carbon Capture & Storage / CO₂‑focused Terms\n",
    "    \"ccs_co2\": [\n",
    "        \"carbon capture and storage\",       # CCS\n",
    "        \"geological storage\",\n",
    "        \"aquifer storage\",\n",
    "        \"depleted field storage\",\n",
    "        \"enhanced coal‑bed methane recovery\",  # ECBMR\n",
    "        \"leakage rate\",\n",
    "        \"bottom‑up energy‑system model\",    # MARKAL\n",
    "        \"enhanced oil recovery\",            # EOR\n",
    "        \"climate‑change mitigation\",\n",
    "        \"non‑co2 ghg reduction\"\n",
    "    ],\n",
    "\n",
    "    # 4. Cross‑cutting Concepts & Metrics\n",
    "    \"cross_cutting\": [\n",
    "        \"greenhouse gas synergy effect\",\n",
    "        \"low‑concentration gas transport\",\n",
    "        \"gas‑water two‑phase flow\",\n",
    "        \"safety regulations\",\n",
    "        \"gas outburst prevention\",\n",
    "        \"borehole sealing technology\",\n",
    "        \"methane power generation\",\n",
    "        \"electricity from cmm\",\n",
    "        \"electricity from cbm\",\n",
    "        \"surface‑underground joint extraction\",\n",
    "        \"huainan mode\",\n",
    "        \"jincheng mode\"\n",
    "    ]\n",
    "}\n",
    "\n",
    "# ---- 2) Build the LLM prompt ----------------------------------------------\n",
    "_SYSTEM = \"\"\"You are a research search‑query generator.\n",
    "When asked, you will:\n",
    "1. Randomly CHOOSE 1‑3 terms from EACH topic bucket provided.\n",
    "2. Shuffle the chosen terms.\n",
    "3. Return ONE single‑line boolean query string wrapped in double quotes\n",
    "   for multi‑word phrases and separated by spaces.\n",
    "4. Do NOT add any explanation—output ONLY the query.\"\"\"\n",
    "\n",
    "def build_prompt(corpus: dict, k_per_topic: int = 3) -> str:\n",
    "    # create a compact JSON block for the assistant to sample from\n",
    "    compact = {k: random.sample(v, min(k_per_topic, len(v)))\n",
    "               for k, v in corpus.items()}\n",
    "    return (\n",
    "        f\"{json.dumps(compact, indent=None)}\\n\\n\"\n",
    "        \"Compose the query now:\"\n",
    "    )\n",
    "\n",
    "# ---- 3) Ask the LLM --------------------------------------------------------\n",
    "def get_random_query(corpus: dict = keyword_corpus) -> str:\n",
    "    prompt = build_prompt(corpus)\n",
    "    rsp = client.chat.completions.create(\n",
    "        model=\"gpt-4o-mini\",  # or whichever model\n",
    "        messages=[\n",
    "            {\"role\": \"system\", \"content\": _SYSTEM},\n",
    "            {\"role\": \"user\",   \"content\": prompt}\n",
    "        ],\n",
    "        max_tokens=50,\n",
    "        temperature=0.7\n",
    "    )\n",
    "    return rsp.choices[0].message.content.strip()\n",
    "\n",
    "# ---- 4) Example ------------------------------------------------------------\n",
    "\n",
    "q = get_random_query()\n",
    "q = q[1:-1] + \" methane mititgation\"\n",
    "q = set(q.split(\" \"))\n",
    "q = ' '.join(q)\n",
    "print(\"Generated search string →\", str(q))\n",
    "    # you can now call: tavily.search(q, search_depth=\"advanced\")\n",
    "\n"
   ]
  },
  {
   "cell_type": "markdown",
   "id": "9e5136e9",
   "metadata": {},
   "source": [
    "---"
   ]
  },
  {
   "cell_type": "markdown",
   "id": "63b27f47",
   "metadata": {},
   "source": [
    "# SEARCH FACILITY"
   ]
  },
  {
   "cell_type": "code",
   "execution_count": 22,
   "id": "67f4ac47",
   "metadata": {},
   "outputs": [
    {
     "name": "stdout",
     "output_type": "stream",
     "text": [
      "User Input:  curve mititgation borehole in‑seam drainage coal‑bed supply conserved storage gob enhanced aquifer methane recovery gas\n"
     ]
    }
   ],
   "source": [
    "# !pip install -qU langchain langchain-openai langchain-tavily\n",
    "from typing import Any, Dict, Optional, TypedDict, List\n",
    "from pydantic import Field\n",
    "from langchain_core.messages import BaseMessage\n",
    "import datetime\n",
    "import os\n",
    "\n",
    "from langgraph.prebuilt import create_react_agent\n",
    "from langchain_openai import ChatOpenAI\n",
    "from langchain_tavily import TavilySearch\n",
    "from langchain.schema import HumanMessage, SystemMessage\n",
    "from langchain_community.utilities import SerpAPIWrapper\n",
    "from langchain_community.tools import DuckDuckGoSearchRun\n",
    "\n",
    "class PaperMetadata(TypedDict):\n",
    "    title: str\n",
    "    link: str\n",
    "    snippet: str = Field(description=\"Short summary of the paper's content\")\n",
    "    abstract: str | None = Field(description=\"The exact abstract stated on the paper's website.\")\n",
    "    published_date: Optional[str] = Field(description=\"This field shoul contain the extact date the paper was published on\")\n",
    "\n",
    "class State(TypedDict):\n",
    "    papers: List[PaperMetadata]\n",
    "\n",
    "    \n",
    "    \n",
    "    \n",
    "# Initialize LLM\n",
    "llm = ChatOpenAI(model=\"gpt-4.1\", temperature=0)\n",
    "\n",
    "# Initialize Tavily Search Tool\n",
    "tavily_search_tool = TavilySearch(\n",
    "    max_results=5,\n",
    "    topic=\"general\",\n",
    "    tavily_api_key=os.getenv(\"TAVILY_KEY\")\n",
    ")\n",
    "\n",
    "serp_api_wrapper = SerpAPIWrapper(serpapi_api_key=os.getenv(\"SERP_API_KEY\"))\n",
    "\n",
    "def serp_tool(query: str) -> str:\n",
    "    \"\"\"\n",
    "    Use this tool to search the web for the most relevant papers and research articles \n",
    "    based on the keywords. The date today is {today}. \n",
    "    It is not necessary that all keywords must exist in the paper, \n",
    "    but should be related to methane mitigation\n",
    "    \"\"\"\n",
    "    return serp_api_wrapper.run(query)\n",
    "\n",
    "def duckduckgo_tool(query: str) -> str:\n",
    "    \"\"\"\n",
    "    Use this tool to search the web for the most relevant papers and research articles \n",
    "    based on the keywords. The date today is {today}. \n",
    "    It is not necessary that all keywords must exist in the paper, \n",
    "    but should be related to methane mitigation\n",
    "    \"\"\"\n",
    "    return DuckDuckGoSearchRun().run(query)\n",
    "\n",
    "# Set up Prompt with 'agent_scratchpad'\n",
    "today = datetime.datetime.today().strftime(\"%D\")\n",
    "prompt =  f\"\"\"You are a helpful reaserch assistant, \n",
    "    you will be given a query and you will need to\n",
    "    search the web for the most relevant papers and research articles \n",
    "    based on the keywords. The date today is {today}. \n",
    "    It is not necessary that all keywords must exist in the paper, \n",
    "    but should be related to methane mitigation\"\"\"\n",
    "\n",
    "# Create an agent that can use tools\n",
    "agent = create_react_agent(\n",
    "    model=llm,\n",
    "    tools=[tavily_search_tool],\n",
    "    prompt=prompt,\n",
    "    response_format=State,\n",
    ")\n",
    "\n",
    "user_input =  q\n",
    "print(\"User Input: \", user_input)\n",
    "\n",
    "# Construct input properly as a dictionary\n",
    "# response = agent.stream({\"messages\": [HumanMessage(content=user_input)]}, stream_mode=\"values\")\n",
    "# for i in response:\n",
    "#     pprint(i)\n",
    "\n",
    "\n",
    "response = agent.invoke({\"messages\": [HumanMessage(content=user_input)]})\n",
    "\n"
   ]
  },
  {
   "cell_type": "code",
   "execution_count": 23,
   "id": "1dc4e315",
   "metadata": {},
   "outputs": [
    {
     "data": {
      "text/plain": [
       "[{'title': 'ENHANCED RECOVERY OF COAL BED METHANE WITH ...',\n",
       "  'link': 'https://www.adv-res.com/Coal-Seq_Consortium/ECBM_Sequestration_Knowledge_Base/EIA%20Reports%20and%20Presentations/Ph3_34%20ECBM_20demo.pdf',\n",
       "  'snippet': 'demonstration pilot, the financing could come from international development agencies or bilateral funding agencies. When the project goes to Stage 3 - commercial demonstration - CUCBM might continue to finance it or international oil and gas companies might provide financing in exchange for a share of the commercial revenues.',\n",
       "  'abstract': 'This report discusses demonstration projects for enhanced coal bed methane (ECBM) recovery, including technical, economic, and financing aspects. It covers staged project development, government and industry involvement, and expert reviews. The focus is on methane recovery and storage in coal seams, relevant to mitigation and supply.',\n",
       "  'published_date': ''},\n",
       " {'title': 'Prediction of Coal Bed Methane Recovery Rate and Its Improvement ...',\n",
       "  'link': 'https://www.scirp.org/journal/paperinformation?paperid=80531',\n",
       "  'snippet': 'obtained. The isothermal adsorption curve method is based on the adsorption of methane on coal in accordance with the Langmuir equation, through calculating the adsorption amount under the waste pressure, the recovery rate is obtained.',\n",
       "  'abstract': 'This paper explores methods for predicting and improving coal bed methane (CBM) recovery rates, including the use of isothermal adsorption curves and the Langmuir equation. It discusses the impact of drainage, aquifer supply, and storage mechanisms on methane recovery efficiency.',\n",
       "  'published_date': ''},\n",
       " {'title': 'Mitigation of coal spontaneous combustion and enhanced coalbed ...',\n",
       "  'link': 'https://www.sciencedirect.com/science/article/pii/S2212982024003226',\n",
       "  'snippet': 'A new model of “liquid CO2 prevention and control of CSC and enhancing coalbed methane recovery comprehensive disaster reduction technology” is proposed.',\n",
       "  'abstract': 'This recent study proposes a new model using liquid CO2 for the prevention of coal spontaneous combustion and for enhancing coalbed methane recovery, integrating disaster reduction and methane mitigation technologies.',\n",
       "  'published_date': '2024'},\n",
       " {'title': 'Investigation into the variation characteristics and influencing factors ...',\n",
       "  'link': 'https://www.nature.com/articles/s41598-024-66011-2',\n",
       "  'snippet': 'Owing to distinct storage mechanisms, there are also notable variations in the production principles between these two sources. Coalbed methane recovery involves utilizing drainage depressurization as a method for extracting methane gas.',\n",
       "  'abstract': 'This article examines the mechanisms of methane storage and production in coal seams, the role of drainage depressurization, and the use of hydraulic fracturing curves as indicators of gas production efficiency. It also references field applications of methane drainage in complex geological settings.',\n",
       "  'published_date': '2024'},\n",
       " {'title': '4 Coalbed Methane Produced Water Management and Beneficial ...',\n",
       "  'link': 'https://nap.nationalacademies.org/read/12915/chapter/6',\n",
       "  'snippet': 'Although deep-well reinjection is largely used as a disposal method, ancillary benefits may include enhanced hydrocarbon recovery, depending on the formation into which the water is injected, the quality of the produced water, and the water’s age.',\n",
       "  'abstract': 'This National Academies report discusses the management of water produced during CBM recovery, including options for disposal, storage, aquifer replenishment, and beneficial use. It highlights the potential for aquifer storage and enhanced recovery as part of methane mitigation strategies.',\n",
       "  'published_date': ''}]"
      ]
     },
     "execution_count": 23,
     "metadata": {},
     "output_type": "execute_result"
    }
   ],
   "source": [
    "response['structured_response']['papers']"
   ]
  },
  {
   "cell_type": "markdown",
   "id": "785a60cd",
   "metadata": {},
   "source": [
    "---"
   ]
  },
  {
   "cell_type": "markdown",
   "id": "087724a3",
   "metadata": {},
   "source": [
    "# BASIC FILTERATION"
   ]
  },
  {
   "cell_type": "code",
   "execution_count": 24,
   "id": "a621091c",
   "metadata": {},
   "outputs": [
    {
     "name": "stdout",
     "output_type": "stream",
     "text": [
      "Using device: mps\n"
     ]
    },
    {
     "name": "stderr",
     "output_type": "stream",
     "text": [
      "Device set to use mps:0\n"
     ]
    }
   ],
   "source": [
    "from transformers import AutoTokenizer, AutoModelForTokenClassification, pipeline\n",
    "import torch\n",
    "from ipymarkup import show_span_box_markup\n",
    "device = torch.device(\"mps\" if torch.backends.mps.is_available() else \"cpu\")\n",
    "print(\"Using device:\", device)\n",
    "model_name = \"nicolauduran45/specter-climate-change-NER\"\n",
    "tokenizer = AutoTokenizer.from_pretrained(model_name)\n",
    "model     = AutoModelForTokenClassification.from_pretrained(model_name)\n",
    "ner = pipeline(\"ner\", model=model, tokenizer=tokenizer, aggregation_strategy=\"simple\")"
   ]
  },
  {
   "cell_type": "code",
   "execution_count": 25,
   "id": "f256c3ba",
   "metadata": {},
   "outputs": [],
   "source": [
    "def predict_with_proper_aggregation(text):\n",
    "    # Get the raw predictions\n",
    "    raw_entities = ner(text)\n",
    "    \n",
    "    # Aggregate subword pieces into complete entities\n",
    "    aggregated_entities = []\n",
    "    current_entity = None\n",
    "    \n",
    "    for entity in raw_entities:\n",
    "        # Check if this is a continuation token (starts with ##)\n",
    "        is_continuation = entity[\"word\"].startswith(\"##\")\n",
    "        \n",
    "        if is_continuation and current_entity:\n",
    "            # Update the current entity by removing ## and appending\n",
    "            current_entity[\"word\"] += entity[\"word\"][2:]\n",
    "            current_entity[\"end\"] = entity[\"end\"]\n",
    "            \n",
    "            # Update the score (average or keep the minimum)\n",
    "            current_entity[\"score\"] = min(current_entity[\"score\"], entity[\"score\"])\n",
    "            \n",
    "            # If entity types differ, use the one with higher confidence\n",
    "            if entity[\"entity_group\"] != current_entity[\"entity_group\"] and entity[\"score\"] > current_entity[\"score\"]:\n",
    "                current_entity[\"entity_group\"] = entity[\"entity_group\"]\n",
    "                current_entity[\"score\"] = entity[\"score\"]\n",
    "        else:\n",
    "            # If we have a previous entity, add it to results\n",
    "            if current_entity:\n",
    "                aggregated_entities.append(current_entity)\n",
    "            \n",
    "            # Start a new entity\n",
    "            current_entity = entity.copy()\n",
    "    \n",
    "    # Don't forget the last entity\n",
    "    if current_entity:\n",
    "        aggregated_entities.append(current_entity)\n",
    "    \n",
    "    # Further aggregation: detect split entities that might not use ## notation\n",
    "    # but should be merged based on adjacent positions\n",
    "    i = 0\n",
    "    while i < len(aggregated_entities) - 1:\n",
    "        current = aggregated_entities[i]\n",
    "        next_entity = aggregated_entities[i + 1]\n",
    "        \n",
    "        # Check if entities are adjacent and should be merged\n",
    "        if (current[\"end\"] == next_entity[\"start\"] and \n",
    "            current[\"entity_group\"] == next_entity[\"entity_group\"]):\n",
    "            # Merge entities\n",
    "            current[\"word\"] += next_entity[\"word\"]\n",
    "            current[\"end\"] = next_entity[\"end\"]\n",
    "            current[\"score\"] = (current[\"score\"] + next_entity[\"score\"]) / 2\n",
    "            # Remove the next entity as it's now merged\n",
    "            aggregated_entities.pop(i + 1)\n",
    "        else:\n",
    "            i += 1\n",
    "    \n",
    "    \n",
    "    spans = [(s['start'], s['end'], s['entity_group'])for s in aggregated_entities]\n",
    "    show_span_box_markup(text, spans)\n",
    "    # pprint(aggregated_entities)\n",
    "    return aggregated_entities\n"
   ]
  },
  {
   "cell_type": "code",
   "execution_count": null,
   "id": "d22c1283",
   "metadata": {},
   "outputs": [],
   "source": [
    "entities = []\n",
    "for i in response['structured_response']['papers']:\n",
    "    entities.extend(predict_with_proper_aggregation(i['abstract']))"
   ]
  },
  {
   "cell_type": "code",
   "execution_count": 34,
   "id": "c047d2b9",
   "metadata": {},
   "outputs": [
    {
     "data": {
      "text/html": [
       "<div class=\"tex2jax_ignore\" style=\"white-space: pre-wrap\">This report discusses demonstration projects for <span style=\"padding: 2px; border-radius: 4px; border: 1px solid #ffcdd2; background: #ffebee\">enhanced<span style=\"vertical-align: middle; margin-left: 2px; font-size: 0.7em; color: #e57373;\">climate-mitigations</span></span> <span style=\"padding: 2px; border-radius: 4px; border: 1px solid #bbdefb; background: #e3f2fd\">coal bed methane<span style=\"vertical-align: middle; margin-left: 2px; font-size: 0.7em; color: #64b5f6;\">climate-problem-origins</span></span> (<span style=\"padding: 2px; border-radius: 4px; border: 1px solid #ffcdd2; background: #ffebee\">ECBM<span style=\"vertical-align: middle; margin-left: 2px; font-size: 0.7em; color: #e57373;\">climate-mitigations</span></span>) recovery, including technical, economic, and financing aspects. It covers staged project development, government and industry involvement, and expert reviews. The focus is on <span style=\"padding: 2px; border-radius: 4px; border: 1px solid #d7ccc8; background: #efebe9\">methane<span style=\"vertical-align: middle; margin-left: 2px; font-size: 0.7em; color: #a1887f;\">climate-hazards</span></span> <span style=\"padding: 2px; border-radius: 4px; border: 1px solid #ffcdd2; background: #ffebee\">recovery<span style=\"vertical-align: middle; margin-left: 2px; font-size: 0.7em; color: #e57373;\">climate-mitigations</span></span> and storage in <span style=\"padding: 2px; border-radius: 4px; border: 1px solid #c8e6c9; background: #e8f5e9\">coal seams<span style=\"vertical-align: middle; margin-left: 2px; font-size: 0.7em; color: #66bb6a;\">climate-nature</span></span>, relevant to <span style=\"padding: 2px; border-radius: 4px; border: 1px solid #ffcdd2; background: #ffebee\">mitigation<span style=\"vertical-align: middle; margin-left: 2px; font-size: 0.7em; color: #e57373;\">climate-mitigations</span></span> and supply.</div>"
      ],
      "text/plain": [
       "<IPython.core.display.HTML object>"
      ]
     },
     "metadata": {},
     "output_type": "display_data"
    },
    {
     "data": {
      "text/html": [
       "<div class=\"tex2jax_ignore\" style=\"white-space: pre-wrap\">This paper explores methods for predicting and improving <span style=\"padding: 2px; border-radius: 4px; border: 1px solid #c8e6c9; background: #e8f5e9\">coal bed<span style=\"vertical-align: middle; margin-left: 2px; font-size: 0.7em; color: #66bb6a;\">climate-nature</span></span> <span style=\"padding: 2px; border-radius: 4px; border: 1px solid #d7ccc8; background: #efebe9\">methane<span style=\"vertical-align: middle; margin-left: 2px; font-size: 0.7em; color: #a1887f;\">climate-hazards</span></span> (<span style=\"padding: 2px; border-radius: 4px; border: 1px solid #ffe0b2; background: #fff3e0\">CBM<span style=\"vertical-align: middle; margin-left: 2px; font-size: 0.7em; color: #ffb74d;\">climate-properties</span></span>) recovery rates, including the use of isothermal adsorption curves and the Langmuir equation. It discusses the impact of <span style=\"padding: 2px; border-radius: 4px; border: 1px solid #c8e6c9; background: #e8f5e9\">drainage<span style=\"vertical-align: middle; margin-left: 2px; font-size: 0.7em; color: #66bb6a;\">climate-nature</span></span>, <span style=\"padding: 2px; border-radius: 4px; border: 1px solid #c8e6c9; background: #e8f5e9\">aquifer<span style=\"vertical-align: middle; margin-left: 2px; font-size: 0.7em; color: #66bb6a;\">climate-nature</span></span> supply, and storage mechanisms on <span style=\"padding: 2px; border-radius: 4px; border: 1px solid #d7ccc8; background: #efebe9\">methane<span style=\"vertical-align: middle; margin-left: 2px; font-size: 0.7em; color: #a1887f;\">climate-hazards</span></span> recovery efficiency.</div>"
      ],
      "text/plain": [
       "<IPython.core.display.HTML object>"
      ]
     },
     "metadata": {},
     "output_type": "display_data"
    },
    {
     "data": {
      "text/html": [
       "<div class=\"tex2jax_ignore\" style=\"white-space: pre-wrap\">This recent study proposes a new model using liquid <span style=\"padding: 2px; border-radius: 4px; border: 1px solid #c8e6c9; background: #e8f5e9\">CO2<span style=\"vertical-align: middle; margin-left: 2px; font-size: 0.7em; color: #66bb6a;\">climate-greenhouse-gases</span></span> for the prevention of <span style=\"padding: 2px; border-radius: 4px; border: 1px solid #bbdefb; background: #e3f2fd\">coal spontaneous combustion<span style=\"vertical-align: middle; margin-left: 2px; font-size: 0.7em; color: #64b5f6;\">climate-problem-origins</span></span> and for enhancing <span style=\"padding: 2px; border-radius: 4px; border: 1px solid #ffcdd2; background: #ffebee\">coal<span style=\"vertical-align: middle; margin-left: 2px; font-size: 0.7em; color: #e57373;\">climate-mitigations</span></span>bed <span style=\"padding: 2px; border-radius: 4px; border: 1px solid #d7ccc8; background: #efebe9\">methane<span style=\"vertical-align: middle; margin-left: 2px; font-size: 0.7em; color: #a1887f;\">climate-hazards</span></span> <span style=\"padding: 2px; border-radius: 4px; border: 1px solid #ffcdd2; background: #ffebee\">recovery<span style=\"vertical-align: middle; margin-left: 2px; font-size: 0.7em; color: #e57373;\">climate-mitigations</span></span>, integrating <span style=\"padding: 2px; border-radius: 4px; border: 1px solid #ffcdd2; background: #ffebee\">disaster reduction<span style=\"vertical-align: middle; margin-left: 2px; font-size: 0.7em; color: #e57373;\">climate-mitigations</span></span> and <span style=\"padding: 2px; border-radius: 4px; border: 1px solid #ffcdd2; background: #ffebee\">methane mitigation<span style=\"vertical-align: middle; margin-left: 2px; font-size: 0.7em; color: #e57373;\">climate-mitigations</span></span> technologies.</div>"
      ],
      "text/plain": [
       "<IPython.core.display.HTML object>"
      ]
     },
     "metadata": {},
     "output_type": "display_data"
    },
    {
     "data": {
      "text/html": [
       "<div class=\"tex2jax_ignore\" style=\"white-space: pre-wrap\">This article examines the mechanisms of <span style=\"padding: 2px; border-radius: 4px; border: 1px solid #d7ccc8; background: #efebe9\">methane<span style=\"vertical-align: middle; margin-left: 2px; font-size: 0.7em; color: #a1887f;\">climate-hazards</span></span> storage and production in <span style=\"padding: 2px; border-radius: 4px; border: 1px solid #c8e6c9; background: #e8f5e9\">coal seams<span style=\"vertical-align: middle; margin-left: 2px; font-size: 0.7em; color: #66bb6a;\">climate-nature</span></span>, the role of <span style=\"padding: 2px; border-radius: 4px; border: 1px solid #ffcdd2; background: #ffebee\">drainage depressurization<span style=\"vertical-align: middle; margin-left: 2px; font-size: 0.7em; color: #e57373;\">climate-mitigations</span></span>, and the use of <span style=\"padding: 2px; border-radius: 4px; border: 1px solid #bbdefb; background: #e3f2fd\">hydraulic fracturing<span style=\"vertical-align: middle; margin-left: 2px; font-size: 0.7em; color: #64b5f6;\">climate-problem-origins</span></span> <span style=\"padding: 2px; border-radius: 4px; border: 1px solid #ffcdd2; background: #ffebee\">curves<span style=\"vertical-align: middle; margin-left: 2px; font-size: 0.7em; color: #e57373;\">climate-mitigations</span></span> as indicators of <span style=\"padding: 2px; border-radius: 4px; border: 1px solid #bbdefb; background: #e3f2fd\">gas<span style=\"vertical-align: middle; margin-left: 2px; font-size: 0.7em; color: #64b5f6;\">climate-problem-origins</span></span> production efficiency. It also references field applications of <span style=\"padding: 2px; border-radius: 4px; border: 1px solid #d7ccc8; background: #efebe9\">methane<span style=\"vertical-align: middle; margin-left: 2px; font-size: 0.7em; color: #a1887f;\">climate-hazards</span></span> drainage in complex geological settings.</div>"
      ],
      "text/plain": [
       "<IPython.core.display.HTML object>"
      ]
     },
     "metadata": {},
     "output_type": "display_data"
    },
    {
     "data": {
      "text/html": [
       "<div class=\"tex2jax_ignore\" style=\"white-space: pre-wrap\">This <span style=\"padding: 2px; border-radius: 4px; border: 1px solid #ffcdd2; background: #ffebee\">National Academies<span style=\"vertical-align: middle; margin-left: 2px; font-size: 0.7em; color: #e57373;\">climate-organizations</span></span> report discusses the management of water produced during <span style=\"padding: 2px; border-radius: 4px; border: 1px solid #ffcdd2; background: #ffebee\">CBM<span style=\"vertical-align: middle; margin-left: 2px; font-size: 0.7em; color: #e57373;\">climate-mitigations</span></span> recovery, including options for disposal, storage, <span style=\"padding: 2px; border-radius: 4px; border: 1px solid #c8e6c9; background: #e8f5e9\">aquifer<span style=\"vertical-align: middle; margin-left: 2px; font-size: 0.7em; color: #66bb6a;\">climate-nature</span></span> replenishment, and beneficial use. It highlights the potential for <span style=\"padding: 2px; border-radius: 4px; border: 1px solid #c8e6c9; background: #e8f5e9\">aquifer<span style=\"vertical-align: middle; margin-left: 2px; font-size: 0.7em; color: #66bb6a;\">climate-nature</span></span> storage and enhanced recovery as part of <span style=\"padding: 2px; border-radius: 4px; border: 1px solid #ffcdd2; background: #ffebee\">methane mitigation<span style=\"vertical-align: middle; margin-left: 2px; font-size: 0.7em; color: #e57373;\">climate-mitigations</span></span> strategies.</div>"
      ],
      "text/plain": [
       "<IPython.core.display.HTML object>"
      ]
     },
     "metadata": {},
     "output_type": "display_data"
    },
    {
     "name": "stdout",
     "output_type": "stream",
     "text": [
      "All papers ranked by score (descending):\n",
      "--------------------------------------------------\n",
      "1. Score: 1.262\n",
      "   Title: Mitigation of coal spontaneous combustion and enhanced coalb...\n",
      "   Entities: 7\n",
      "\n",
      "2. Score: 1.154\n",
      "   Title: 4 Coalbed Methane Produced Water Management and Beneficial ....\n",
      "   Entities: 5\n",
      "\n",
      "3. Score: 1.080\n",
      "   Title: ENHANCED RECOVERY OF COAL BED METHANE WITH ......\n",
      "   Entities: 7\n",
      "\n",
      "4. Score: 1.063\n",
      "   Title: Investigation into the variation characteristics and influen...\n",
      "   Entities: 7\n",
      "\n",
      "5. Score: 0.608\n",
      "   Title: Prediction of Coal Bed Methane Recovery Rate and Its Improve...\n",
      "   Entities: 6\n",
      "\n",
      "Selected paper: Mitigation of coal spontaneous combustion and enhanced coalbed ...\n",
      "Score: 1.2619621753692627\n"
     ]
    }
   ],
   "source": [
    "def select_best_paper(papers, entities_list):\n",
    "    \"\"\"Select the best paper based on NER entity scores\"\"\"\n",
    "    \n",
    "    def calculate_paper_score(entities):\n",
    "        if not entities:\n",
    "            return 0\n",
    "        \n",
    "        weights = {\n",
    "            'climate-mitigations': 2.0,\n",
    "            'climate-hazards': 1.5,\n",
    "            'climate-problem-origins': 1.2,\n",
    "            'climate-nature': 1.0,\n",
    "            'climate-assets': 0.8,\n",
    "            'climate-properties': 0.6,\n",
    "            'climate-impacts': 0.6\n",
    "        }\n",
    "        \n",
    "        weighted_score = 0\n",
    "        for entity in entities:\n",
    "            weight = weights.get(entity['entity_group'], 1.0)\n",
    "            weighted_score += entity['score'] * weight\n",
    "        \n",
    "        return weighted_score / len(entities) if entities else 0\n",
    "    \n",
    "    # Process entities for each paper separately\n",
    "    paper_scores = []\n",
    "    for i, paper in enumerate(papers):\n",
    "        # Process entities for this specific paper\n",
    "        paper_entities = predict_with_proper_aggregation(paper['abstract'])\n",
    "        score = calculate_paper_score(paper_entities)\n",
    "        \n",
    "        papers[i]['score'] = score\n",
    "        paper_scores.append({\n",
    "            'index': i,\n",
    "            'paper': papers[i],\n",
    "            'score': score,\n",
    "            'entity_count': len(paper_entities)\n",
    "        })\n",
    "    \n",
    "    # Sort and display\n",
    "    paper_scores.sort(key=lambda x: x['score'], reverse=True)\n",
    "    \n",
    "    print(\"All papers ranked by score (descending):\")\n",
    "    print(\"-\" * 50)\n",
    "    for i, item in enumerate(paper_scores, 1):\n",
    "        print(f\"{i}. Score: {item['score']:.3f}\")\n",
    "        print(f\"   Title: {item['paper']['title'][:60]}...\")\n",
    "        print(f\"   Entities: {item['entity_count']}\")\n",
    "        print()\n",
    "    \n",
    "    return paper_scores[0]['paper']\n",
    "\n",
    "# Apply the selection\n",
    "papers = response['structured_response']['papers']\n",
    "best_paper = select_best_paper(papers, entities)\n",
    "print(f\"Selected paper: {best_paper['title']}\")\n",
    "print(f\"Score: {best_paper['score']}\")"
   ]
  },
  {
   "cell_type": "markdown",
   "id": "825de188",
   "metadata": {},
   "source": [
    "---"
   ]
  }
 ],
 "metadata": {
  "kernelspec": {
   "display_name": ".venv",
   "language": "python",
   "name": "python3"
  },
  "language_info": {
   "codemirror_mode": {
    "name": "ipython",
    "version": 3
   },
   "file_extension": ".py",
   "mimetype": "text/x-python",
   "name": "python",
   "nbconvert_exporter": "python",
   "pygments_lexer": "ipython3",
   "version": "3.13.7"
  }
 },
 "nbformat": 4,
 "nbformat_minor": 5
}
